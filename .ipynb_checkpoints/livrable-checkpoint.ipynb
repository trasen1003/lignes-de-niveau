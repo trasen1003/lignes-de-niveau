{
 "cells": [
  {
   "cell_type": "markdown",
   "metadata": {},
   "source": [
    "# Nomenclature "
   ]
  },
  {
   "cell_type": "markdown",
   "metadata": {},
   "source": [
    "Dans tout le notebook :\n",
    "    $f$ désignera la fonction dont on cherche à tracer les lignes de niveau,$c \\in \\mathbb R $ la valeur de la ligne de niveau\n",
    "    <br\\> En pratique on travaillera avec $c=0$ avec le changement \n",
    "    \\begin{array}{l|rcl}\n",
    "     g : & \\mathbb R^2 & \\longrightarrow & \\mathbb R \\\\\n",
    "         & x & \\longmapsto & f(x) - c\\end{array}  \n",
    "     <br\\> les points appartiendront à l'espace de départ : $\\mathbb R^2$.\n",
    "     <br/> $eps$ désignera une petite quantité en deçà de laquelle $g$ est considérée comme étant nulle.\n"
   ]
  },
  {
   "cell_type": "markdown",
   "metadata": {},
   "source": []
  },
  {
   "cell_type": "markdown",
   "metadata": {},
   "source": [
    "# Traçage des lignes de niveau"
   ]
  },
  {
   "cell_type": "markdown",
   "metadata": {},
   "source": [
    "L'idée de l'algorithme est de travailler sur des subdivisions -des cases- du domaine considéré"
   ]
  },
  {
   "cell_type": "markdown",
   "metadata": {},
   "source": [
    "Dans chaque case on suit un schéma bien précis:\n",
    "    - Trouver une graine\n",
    "    - Propager la ligne de niveau"
   ]
  },
  {
   "cell_type": "markdown",
   "metadata": {},
   "source": [
    " ##  Trouver une graine dans une case"
   ]
  },
  {
   "cell_type": "markdown",
   "metadata": {},
   "source": [
    "Par \"graine\" on entend un point tel que l'on est sûrs que la fonction est nulle avec une grande précision ($eps$)\n",
    "\n",
    "Pour cela, on va utiliser la **méthode de dichotomie** : on cherche des points $a$ et $b$ de la case tels que :\n",
    "\n",
    "$g(a) \\leq 0 \\leq g(b)$ et on exhibe $x \\in [a,b], |g(x)|<eps$ "
   ]
  },
  {
   "cell_type": "markdown",
   "metadata": {},
   "source": [
    "En pratique on prend pour $a$ et $b$ des points sur le contour de la case ayant la même abscisse ou la même ordonnée"
   ]
  },
  {
   "cell_type": "markdown",
   "metadata": {},
   "source": [
    "![illustration](img/IMG_20191022_232213.jpg)"
   ]
  },
  {
   "cell_type": "markdown",
   "metadata": {},
   "source": [
    "![find_seed_global](img/IMG_20191022_232257.jpg)"
   ]
  },
  {
   "cell_type": "markdown",
   "metadata": {},
   "source": [
    "# Propager la ligne"
   ]
  },
  {
   "cell_type": "markdown",
   "metadata": {},
   "source": [
    "Après avoir trouvé une graine $ a = (x_0,y_0) $ de la case on cherche à trouver $a$ proche de $b$ tel que $|g(b)|<eps$\n",
    "<br/> On utilise alors le **théorème des fonctions implicites** dont l'application fait intervenir la **méthode de Newton de recherche d'un zéro**\n",
    "<br/> Le but est d'exhibier $(b_n)_{n \\in \\mathbb N}$ suite de points telle que : \n",
    "<br/> $\\forall n \\in \\mathbb N^* ; ||b_n - b_{n-1}|| \\approx h , |g(b_n)|<eps$"
   ]
  },
  {
   "cell_type": "markdown",
   "metadata": {},
   "source": [
    "## Description de l'algorithme :\n",
    "    \n",
    "### step 1\n",
    "On se place en $a' = (x_0 + h,y_0)$\n",
    "### step 2\n",
    "On effectue la méthode de Newton sur la fonction $g$ sur le segment $[(x_0 + h, y_m),(x_0 + h, y_M)]$ avec $y_m$ et $y_M$ les bornes selon l'axe y de la case\n",
    "### step 3\n",
    "On itère tant que $x_0 + n*h$ ne sort pas de la case\n",
    "### step 4,5,6\n",
    "On fait de même avec $x_0 - n*h$, $y_0 + n*h$ et $y_0 - n*h$\n"
   ]
  },
  {
   "cell_type": "markdown",
   "metadata": {},
   "source": [
    "![methode de Newton](img/IMG_20191022_233232.jpg)"
   ]
  },
  {
   "cell_type": "code",
   "execution_count": null,
   "metadata": {},
   "outputs": [],
   "source": [
    "def Propagation(f, axis, x0, y0, eps1, eps2, c = 0):\n",
    "    \n",
    "    ''' Fonction de propagation de la ligne de niveau, axis donne l'axe \n",
    "    sur lequel on se déplace, eps1 le pas de déplacement, x0 et y0 les points de référence\n",
    "    eps2 donne la précision voulue pour la méthode de Newton'''\n",
    "    \n",
    "    if axis!= 'x' and axis != 'y' : raise ValueError('Axis mal donné')\n",
    "    \n",
    "    def g(p,q) : return f(p,q) - c\n",
    "    \n",
    "    t1 = time.time()\n",
    "    \n",
    "    if axis == 'y' : \n",
    "        y = y0\n",
    "        x = x0 + eps1\n",
    "    \n",
    "    if axis == 'x':\n",
    "        x = x0\n",
    "        y = y0 + eps1\n",
    "    \n",
    "    nb_derive = derive(g,axis,x0,y0)\n",
    "    \n",
    "    if axis == 'y':\n",
    "        def psi(w):\n",
    "            return w - 1/nb_derive*g(x,w)\n",
    "        \n",
    "        while abs(g(x,y))>eps2 and abs(y) < 10**6 and time.time()-t1 < 10**-3: ## Conditions d'arrêt restrictrices\n",
    "            y = psi(y)\n",
    "        \n",
    "        if time.time() - t1 >= 10**-3 : return x,10**7 ## 10**7 car le code ensuite interprète cela comme un échec de la méthode\n",
    "\n",
    "    if axis == 'x':\n",
    "        def psi(w):\n",
    "            return w - 1/nb_derive*g(w,y)\n",
    "        \n",
    "        while abs(g(x,y))>eps2 and abs(x) < 10**6 and time.time()-t1 < 10**-3: ## Conditions d'arrêt restrictrices\n",
    "            x = psi(x)\n",
    "        \n",
    "        if time.time() - t1 >= 10**-3 : return 10**7,y ## 10**7 car le code ensuite interprète cela comme un échec de la méthode\n",
    "\n",
    "    \n",
    "    return x,y "
   ]
  },
  {
   "cell_type": "markdown",
   "metadata": {},
   "source": [
    "Des conditions d'arrêt très restrictices ont été mise dans la méthode de Newton afin de pallier à tout risque de disfonctionnement de l'algorithme\n",
    "<br/> En effet la méthode de Newton est **très** efficace, ce qui implique une **grande régularité de la fonction à tester**, régularité qui n'est dans notre cas valable que très près du point de référence $(x_0,y_0)$"
   ]
  },
  {
   "cell_type": "markdown",
   "metadata": {},
   "source": [
    "![cas problèmatiques](img/IMG_20191022_233756.jpg)"
   ]
  },
  {
   "cell_type": "markdown",
   "metadata": {},
   "source": [
    "## Explication des cas problématiques"
   ]
  },
  {
   "cell_type": "markdown",
   "metadata": {},
   "source": [
    "### Cas 1:\n",
    "On a ici une dérivée partielle trop faible, ce qui nous fait sortir de la case. Cette erreur survient si $f(x0+h,y0)$ est trop grand devant 0 ou/et si $\\partial_y f(x_0,y_0)$ est trop petit. Dans le premier cas comme dans le second, une des seules solutions est de réduire le pas $h$\n",
    "\n",
    "### Cas 2:\n",
    "\n",
    "La fonction n'est pas assez régulière au voisinage de $(x_0,y_0)$, ce qui occasione parfois des boucles infinies (cf exemple) On est alors obligé de réduire le pas $h$ pour espérer garder assez de régularité"
   ]
  },
  {
   "cell_type": "code",
   "execution_count": null,
   "metadata": {},
   "outputs": [],
   "source": []
  }
 ],
 "metadata": {
  "kernelspec": {
   "display_name": "Python 3",
   "language": "python",
   "name": "python3"
  },
  "language_info": {
   "codemirror_mode": {
    "name": "ipython",
    "version": 3
   },
   "file_extension": ".py",
   "mimetype": "text/x-python",
   "name": "python",
   "nbconvert_exporter": "python",
   "pygments_lexer": "ipython3",
   "version": "3.7.4"
  }
 },
 "nbformat": 4,
 "nbformat_minor": 2
}
