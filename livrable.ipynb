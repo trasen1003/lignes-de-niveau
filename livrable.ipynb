{
 "cells": [
  {
   "cell_type": "markdown",
   "metadata": {},
   "source": [
    "# Nomenclature "
   ]
  },
  {
   "cell_type": "markdown",
   "metadata": {},
   "source": [
    "Dans tout le notebook :\n",
    "    $f$ désignera la fonction dont on cherche à tracer les lignes de niveau,$c \\in \\mathbb R $ la valeur de la ligne de niveau.\n",
    "    <br/> En pratique on travaillera avec $c=0$ avec le changement :\n",
    "    \\begin{array}{l|rcl}\n",
    "     g : & \\mathbb R^2 & \\longrightarrow & \\mathbb R \\\\\n",
    "         & x & \\longmapsto & f(x) - c\\end{array}  \n",
    "     <br/> les points appartiendront à l'espace de départ : $\\mathbb R^2$.\n",
    "     <br/> $eps$ désignera une petite quantité en deçà de laquelle $g$ est considérée comme étant nulle.\n"
   ]
  },
  {
   "cell_type": "markdown",
   "metadata": {},
   "source": [
    "# Méthode naïve"
   ]
  },
  {
   "cell_type": "markdown",
   "metadata": {},
   "source": [
    "Une première approche serait de découper le plan en très petites cases, d'évaluer g sur un des points p de chaque case et de colorier la case seulement si $|g(p)| < eps$\n",
    "\n",
    "Complexité : $ O(\\dfrac{longueur_x \\times longueur_y}{precision^{2}})$"
   ]
  },
  {
   "cell_type": "markdown",
   "metadata": {},
   "source": [
    "![image](img/echec_naif.png)"
   ]
  },
  {
   "cell_type": "markdown",
   "metadata": {},
   "source": [
    "zéros de la fonction $x,y \\longmapsto cos(x^{2} + y^{2})$  \n",
    "  \n",
    "On remarque des erreurs (ma foi fort jolies) dues au choix de eps et de précision mais l'algorithme est déja très lent."
   ]
  },
  {
   "cell_type": "markdown",
   "metadata": {},
   "source": [
    "# Traçage des lignes de niveau"
   ]
  },
  {
   "cell_type": "markdown",
   "metadata": {},
   "source": [
    "L'idée de l'algorithme est de travailler sur des subdivisions -*des cases*- du domaine considéré."
   ]
  },
  {
   "cell_type": "markdown",
   "metadata": {},
   "source": [
    "Dans chaque case on suit un schéma bien précis:\n",
    "    - Trouver une graine.\n",
    "    - Propager la ligne de niveau."
   ]
  },
  {
   "cell_type": "markdown",
   "metadata": {},
   "source": [
    " ##  Trouver une graine dans une case"
   ]
  },
  {
   "cell_type": "markdown",
   "metadata": {},
   "source": [
    "Par \"graine\" on entend un point tel que l'on est sûrs que la fonction est nulle avec une grande précision ($eps$).\n",
    "\n",
    "Pour cela, on va utiliser la **méthode de dichotomie** : on cherche des points $a$ et $b$ de la case tels que :\n",
    "\n",
    "&nbsp; &nbsp; &nbsp; &nbsp; &nbsp; &nbsp; &nbsp; &nbsp; &nbsp; &nbsp; &nbsp;  &nbsp; &nbsp; &nbsp; &nbsp; &nbsp; &nbsp; &nbsp; &nbsp;$g(a) \\leq 0 \\leq g(b)$ et on exhibe $x \\in [a,b], |g(x)|<eps$."
   ]
  },
  {
   "cell_type": "markdown",
   "metadata": {},
   "source": [
    "En pratique on prend pour $a$ et $b$ des points sur le contour de la case ayant la même abscisse ou la même ordonnée."
   ]
  },
  {
   "cell_type": "markdown",
   "metadata": {},
   "source": [
    "![illustration](img/IMG_20191022_232213.jpg)"
   ]
  },
  {
   "cell_type": "markdown",
   "metadata": {},
   "source": [
    "![find_seed_global](img/IMG_20191022_232257.jpg)"
   ]
  },
  {
   "cell_type": "code",
   "execution_count": null,
   "metadata": {},
   "outputs": [],
   "source": [
    "def find_seed_global(f, bornes_x = [0,1], bornes_y = [0,1], pas = 10**-3, eps = 2**-26, c = 0):\n",
    "    \"\"\" f est la fonction à tester et c la ligne de niveau recherchée, bornes_x et bornes_y définissent le domaine\n",
    "    de recherche de la graine du processus, pas définit le pas de recherche et eps la precision de la dichotomie\"\"\"\n",
    "\n",
    "    ## recherche sur l'axe y\n",
    "\n",
    "    x_value = bornes_x[0]\n",
    "    while x_value <= bornes_x[1] and find_seed(f, c, 'x', x_value, bornes_y[0], bornes_y[1], eps) == None :\n",
    "        x_value += pas\n",
    "\n",
    "    if x_value <= bornes_x[1] : ## Une graine a été trouvée\n",
    "        return (x_value, find_seed(f, c, 'x', x_value, bornes_y[0], bornes_y[1], eps))\n",
    "\n",
    "    ## recherche sur l'axe x \n",
    "\n",
    "    y_value = bornes_y[0]\n",
    "    while y_value <= bornes_y[1] and find_seed(f, c, 'y', y_value, bornes_x[0], bornes_x[1], eps) == None :\n",
    "        y_value += pas\n",
    "\n",
    "    if y_value <= bornes_y[1] : ## Une graine a été trouvée\n",
    "        return (find_seed(f, c, 'y', y_value, bornes_x[0], bornes_x[1], eps), y_value)\n",
    "\n",
    "    return None"
   ]
  },
  {
   "cell_type": "markdown",
   "metadata": {},
   "source": [
    "$find\\_seed\\_global$ fait appel à la fonction $find\\_seed$ qui cherche une graine dans une case et qui retourne $None$ si elle n'en trouve pas"
   ]
  },
  {
   "cell_type": "code",
   "execution_count": null,
   "metadata": {},
   "outputs": [],
   "source": [
    "def find_seed(f, c = 0, axis = 'x', value = 0, start = 0, end = 1,  eps = 2**-26):\n",
    "\n",
    "    \"\"\" f : fonction à tester; c : valeur de la ligne de niveau; axis : axe selon lequel on cherche la solution\n",
    "    value : valeur qui va être prise sur l'axe spécifié pour être la coordonée fixe;\n",
    "    start, debut : bornes de la recherche (ie : la recherche se fera entre f(start,value) et f(end,value) si axe = 'y')\n",
    "    eps : écart recherché pour la dichotomie\"\"\"\n",
    "\n",
    "    if axis != 'x' and axis != 'y' : raise ValueError (\"l'axe doit être 'x' ou 'y'\")\n",
    "\n",
    "    g = transformation(f,c)\n",
    "    \n",
    "    cas = verification(g, axis, value, start, end)\n",
    "    if cas == 1 :\n",
    "        return dichotomie(g, axis, value, start, end, eps)\n",
    "    if cas == 2 :\n",
    "        return dichotomie(g, axis, value, end, start, eps)\n",
    "    else : \n",
    "        return None\n"
   ]
  },
  {
   "cell_type": "markdown",
   "metadata": {},
   "source": [
    "$find\\_seed$ fait appel à trois fonctions :\n",
    "<br/> &nbsp; &nbsp; &nbsp; &nbsp;  $transformation$ qui transforme $f$ en $ x \\longmapsto f(x) - c $.\n",
    "<br/> &nbsp; &nbsp; &nbsp; &nbsp; $verification$ qui vérifie que la dichotomie est possible entre $(value, start)$  et $ (value, end)$ si $axis = y$ ($(start, value)$  et $(end,value)$ si $axis = x$ )\n",
    "<br/> &nbsp; &nbsp; &nbsp; &nbsp; et qui retourne 0 si elle n'est pas possible.\n",
    "<br/> &nbsp; &nbsp; &nbsp; &nbsp; $dichotomie$ qui effectue la méthode de dichotomie après vérification, et qui donne la graine souhaitée."
   ]
  },
  {
   "cell_type": "code",
   "execution_count": null,
   "metadata": {},
   "outputs": [],
   "source": [
    "def transformation(f, c):\n",
    "    def g(x,y) : return f(x,y) - c\n",
    "    return g\n",
    "    \n",
    "def verification(f, axis = 'x', value = 0, start = 0, end = 1):\n",
    "    if axis == 'x':\n",
    "        if f(value,start) >= 0 and f(value,end) <= 0 : return 1\n",
    "        elif f(value,start) <= 0 and f(value,end) >= 0 : return 2\n",
    "        else : return 0\n",
    "\n",
    "    elif axis == 'y':\n",
    "        if f(start,value) >= 0 and f(end,value) <= 0 : return 1\n",
    "        elif f(start,value) <= 0 and f(end,value) >= 0 : return 2\n",
    "        else : return 0\n",
    "\n",
    "def dichotomie(f, axis, value, a, b, eps):\n",
    "    \n",
    "    \"\"\"a est la position où f est positif et b la position où f est négatif\"\"\"\n",
    "    if axis == 'x':\n",
    "        while abs(b-a) > eps :\n",
    "            milieu = (b + a)/2\n",
    "            if f(milieu,value) >= 0:\n",
    "                a = milieu\n",
    "            else :\n",
    "                b = milieu\n",
    "        return (a+b)/2\n",
    "    elif axis == 'y':\n",
    "        while abs(b-a) > eps :\n",
    "            milieu = (b + a)/2\n",
    "            if f(milieu,value) > 0:\n",
    "                a = milieu\n",
    "            else :\n",
    "                b = milieu\n",
    "        return (a+b)/2\n"
   ]
  },
  {
   "cell_type": "markdown",
   "metadata": {},
   "source": [
    "Dans $verification$ on a une disjonction de cas qui renvoie 1 ou 2, cela correpond respectivement aux situations : \n",
    "<br/> $g(a) \\leq 0 \\leq g(b)$ et $g(a) \\geq 0 \\geq g(b)$ ."
   ]
  },
  {
   "cell_type": "markdown",
   "metadata": {},
   "source": [
    "Après avoir fini cet algorithme, on peut s'intéresser à celui qui trace la ligne de niveau dans la case **à partir de la graine** ."
   ]
  },
  {
   "cell_type": "markdown",
   "metadata": {},
   "source": [
    "# Propager la ligne"
   ]
  },
  {
   "cell_type": "markdown",
   "metadata": {},
   "source": [
    "Après avoir trouvé une graine $ a = (x_0,y_0) $ de la case on cherche à trouver $a$ proche de $b$ tel que $|g(b)|<eps$.\n",
    "<br/> On utilise alors le **théorème des fonctions implicites** dont l'application fait intervenir la **méthode de Newton de recherche d'un zéro**.\n",
    "<br/> Le but est d'exhibier $(b_n)_{n \\in \\mathbb N}$ suite de points telle que : \n",
    "<br/> $\\forall n \\in \\mathbb N^* ; ||b_n - b_{n-1}|| \\approx h , |g(b_n)|<eps$."
   ]
  },
  {
   "cell_type": "markdown",
   "metadata": {},
   "source": [
    "## Description de l'algorithme :\n",
    "    \n",
    "### step 1\n",
    "On se place en $a' = (x_0 + h,y_0)$.\n",
    "### step 2\n",
    "On effectue la méthode de Newton sur la fonction $g$ sur le segment $[(x_0 + h, y_m),(x_0 + h, y_M)]$ avec $y_m$ et $y_M$ les bornes selon l'axe y de la case.\n",
    "### step 3\n",
    "On itère tant que $x_0 + n \\times h$ ne sort pas de la case.\n",
    "### step 4,5,6\n",
    "On fait de même avec $x_0 - n \\times h$, $y_0 + n \\times h$ et $y_0 - n \\times h$.\n"
   ]
  },
  {
   "cell_type": "markdown",
   "metadata": {},
   "source": [
    "![explication générale](img/IMG_20191023_114805.jpg)"
   ]
  },
  {
   "cell_type": "markdown",
   "metadata": {},
   "source": [
    "![methode de Newton](img/IMG_20191022_233232.jpg)"
   ]
  },
  {
   "cell_type": "code",
   "execution_count": null,
   "metadata": {},
   "outputs": [],
   "source": [
    "def Propagation(f, axis, x0, y0, eps1, eps2, c = 0):\n",
    "    \n",
    "    ''' Fonction de propagation de la ligne de niveau, axis donne l'axe \n",
    "    sur lequel on se déplace, eps1 le pas de déplacement, x0 et y0 les points de référence\n",
    "    eps2 donne la précision voulue pour la méthode de Newton'''\n",
    "    \n",
    "    if axis!= 'x' and axis != 'y' : raise ValueError('Axis mal donné')\n",
    "    \n",
    "    def g(p,q) : return f(p,q) - c\n",
    "    \n",
    "    t1 = time.time()\n",
    "    \n",
    "    if axis == 'y' : \n",
    "        y = y0\n",
    "        x = x0 + eps1\n",
    "    \n",
    "    if axis == 'x':\n",
    "        x = x0\n",
    "        y = y0 + eps1\n",
    "    \n",
    "    nb_derive = derive(g,axis,x0,y0)\n",
    "    \n",
    "    if axis == 'y':\n",
    "        def psi(w):\n",
    "            return w - 1/nb_derive*g(x,w)\n",
    "        \n",
    "        while abs(g(x,y))>eps2 and abs(y) < 10**6 and time.time()-t1 < 10**-3: ## Conditions d'arrêt restrictrices\n",
    "            y = psi(y)\n",
    "        \n",
    "        if time.time() - t1 >= 10**-3 : return x,10**7 ## 10**7 car le code ensuite interprète cela comme un échec de la méthode\n",
    "\n",
    "    if axis == 'x':\n",
    "        def psi(w):\n",
    "            return w - 1/nb_derive*g(w,y)\n",
    "        \n",
    "        while abs(g(x,y))>eps2 and abs(x) < 10**6 and time.time()-t1 < 10**-3: ## Conditions d'arrêt restrictrices\n",
    "            x = psi(x)\n",
    "        \n",
    "        if time.time() - t1 >= 10**-3 : return 10**7,y ## 10**7 car le code ensuite interprète cela comme un échec de la méthode\n",
    "\n",
    "    \n",
    "    return x,y "
   ]
  },
  {
   "cell_type": "markdown",
   "metadata": {},
   "source": [
    "Des conditions d'arrêt très restrictices ont été mise dans la méthode de Newton afin de pallier à tout risque de disfonctionnement de l'algorithme.\n",
    "<br/> En effet la méthode de Newton est **très** efficace, ce qui implique une **grande régularité de la fonction à tester**, régularité qui n'est dans notre cas valable que très près du point de référence $(x_0,y_0)$."
   ]
  },
  {
   "cell_type": "markdown",
   "metadata": {},
   "source": [
    "Cet algorithme est notre version finale,les quelques modifications par rapport à la version de base sont rapportées plus loin dans le notebook (cf exempe $ x,y \\longmapsto x \\times y$) et $ x,y \\longmapsto cos(x^2+y^2) $."
   ]
  },
  {
   "cell_type": "markdown",
   "metadata": {},
   "source": [
    "![cas problèmatiques](img/IMG_20191022_233756.jpg)"
   ]
  },
  {
   "cell_type": "markdown",
   "metadata": {},
   "source": [
    "## Explication des cas problématiques"
   ]
  },
  {
   "cell_type": "markdown",
   "metadata": {},
   "source": [
    "### Cas 1:\n",
    "On a ici une dérivée partielle trop faible, ce qui nous fait sortir de la case. Cette erreur survient si $f(x_0+h,y_0)$ est trop grand devant 0 ou/et si $\\partial_y f(x_0,y_0)$ est trop petit. Dans le premier cas comme dans le second, une des seules solutions est de réduire le pas $h$.\n",
    "\n",
    "### Cas 2:\n",
    "\n",
    "La fonction n'est pas assez régulière au voisinage de $(x_0,y_0)$, ce qui occasione parfois des boucles infinies (cf exemple $ x,y \\longmapsto cos(x^2 + y^2) $) On est alors obligé de réduire le pas $h$ pour espérer garder assez de régularité."
   ]
  },
  {
   "cell_type": "markdown",
   "metadata": {},
   "source": [
    "On a maintenant un algorithme capable de tracer nos lignes de niveau !"
   ]
  },
  {
   "cell_type": "markdown",
   "metadata": {},
   "source": [
    "# Structure de l'algorithme de traçage"
   ]
  },
  {
   "cell_type": "markdown",
   "metadata": {},
   "source": [
    "## Step 1\n",
    "Découpage en cases.\n",
    "## Step 2\n",
    "Recherche de graine dans chaque case.\n",
    "## Step 3\n",
    "Si une graine est trouvée alors on applique le théorème des fonctions implicites sur chaque axe."
   ]
  },
  {
   "cell_type": "code",
   "execution_count": 1,
   "metadata": {},
   "outputs": [],
   "source": [
    "def ligne_niveau(f, c = 0, x_lim = [0,1], y_lim = [0,1], eps1 = 10**-3, eps2 = 2**-26):\n",
    "    Liste_x = []\n",
    "    Liste_y = []\n",
    "\n",
    "    Liste_domaine = decoupe(x_lim, y_lim, eps1)\n",
    "    k = 0\n",
    "    for x_field, y_field in Liste_domaine:\n",
    "        k += 1\n",
    "        if find_seed_global(f, x_field, y_field, eps1/10, eps2, c) != None:\n",
    "            x0, y0 = find_seed_global(f, x_field, y_field, eps1/10, eps2, c)\n",
    "            Liste_x.append(x0)\n",
    "            Liste_y.append(y0)\n",
    "            x_plus = x0\n",
    "            x_moins = x0\n",
    "            y = y0\n",
    "            while x_moins > x_field[0]:\n",
    "                x_moins,y = Propagation(f, 'y', x_moins, y, - eps1/10, eps2, c)\n",
    "                if abs(y) >= 10**6 : break\n",
    "                Liste_x.append(x_moins)\n",
    "                Liste_y.append(y)\n",
    "            y = y0\n",
    "            while x_plus < x_field[1]:\n",
    "                x_plus,y = Propagation(f, 'y', x_plus, y, eps1/10, eps2, c)\n",
    "                if abs(y) >= 10**6 : break\n",
    "                Liste_x.append(x_plus)\n",
    "                Liste_y.append(y)\n",
    "            x = x0\n",
    "            y_moins = y0\n",
    "            y_plus = y0\n",
    "            while y_moins > y_field[0]:\n",
    "                x,y_moins = Propagation(f, 'x', x, y_moins, -eps1/10, eps2, c)\n",
    "                if abs(x) >= 10**6 : break\n",
    "                Liste_x.append(x)\n",
    "                Liste_y.append(y_moins)\n",
    "            while y_plus < y_field[1]:\n",
    "                x,y_plus = Propagation(f, 'x', x, y_plus, eps1/10, eps2, c)\n",
    "                if abs(x) >= 10**6 : break\n",
    "                Liste_x.append(x)\n",
    "                Liste_y.append(y_plus)\n",
    "    return Liste_x, Liste_y"
   ]
  },
  {
   "cell_type": "markdown",
   "metadata": {},
   "source": [
    "On retrouve les fonctions $find\\_seed\\_global$ et $Propagation$, étudiées et détaillées auparavant.\n",
    "<br/> Il y a également une fonction $découpe$, dont on affiche le code ensuite, puis la fonction $affiche\\_ligne$ qui affiche les lignes de niveau"
   ]
  },
  {
   "cell_type": "code",
   "execution_count": null,
   "metadata": {},
   "outputs": [],
   "source": [
    "def decoupe(x_lim = [0,1], y_lim = [0,1], eps = 10**-3) :\n",
    "    Liste_domaine = []\n",
    "\n",
    "    x_min, x_max = x_lim\n",
    "    y_min, y_max = y_lim\n",
    "    x = x_min\n",
    "    while x + eps < x_max :\n",
    "        y = y_min\n",
    "        while y + eps < y_max :\n",
    "            y_field = [y, y + eps]\n",
    "            x_field = [x, x + eps]\n",
    "            y += eps\n",
    "            Liste_domaine.append([x_field, y_field])\n",
    "\n",
    "        x += eps\n",
    "\n",
    "    return Liste_domaine"
   ]
  },
  {
   "cell_type": "code",
   "execution_count": null,
   "metadata": {},
   "outputs": [],
   "source": [
    "def affiche_ligne(f, Liste_c = [0], x_lim = [0,1], y_lim = [0,1], eps1 = 10**-3, eps2 = 2**-26):\n",
    "\n",
    "    plt.figure()\n",
    "    plt.title(f\"Lignes de niveau de f associée à {Liste_c}\")\n",
    "    plt.xlabel('x')\n",
    "    plt.ylabel('y')\n",
    "        print(c)\n",
    "        Liste_x,Liste_y = ligne_niveau(f, c, x_lim, y_lim, eps1, eps2)\n",
    "        plt.plot(Liste_x,Liste_y, marker = '.', linestyle = ' ', label = f\"{c}\")\n",
    "        plt.xlim(x_lim[0], x_lim[1])\n",
    "        plt.ylim(y_lim[0], y_lim[1])\n",
    "        plt.legend(loc=1)\n",
    "    plt.show()"
   ]
  },
  {
   "cell_type": "markdown",
   "metadata": {},
   "source": [
    "#  Exemples d'utilisation"
   ]
  },
  {
   "cell_type": "markdown",
   "metadata": {},
   "source": [
    "## - $x,y \\longmapsto cos(x^2 +y^2)$"
   ]
  },
  {
   "cell_type": "markdown",
   "metadata": {},
   "source": [
    "![cos](img/ligne_cos.png)"
   ]
  },
  {
   "cell_type": "markdown",
   "metadata": {},
   "source": [
    "**Légende** : $x,y \\longmapsto cos(x^2 + y^2) $"
   ]
  },
  {
   "cell_type": "markdown",
   "metadata": {},
   "source": [
    "Cette fonction nous a posé problème ! En effet lorsque l'on s'éloigne du point $(0,0)$ On observe des variations de plus en plus rapides de la fonction, on se retrouve alors dans le cas problématique n°2 !\n",
    "<br/> Cela nous a incité a **modifier notre fonction de propagation** en imposant une **limite temporelle à la méthode de Newton** : La boucle infinie est donc **impossible**."
   ]
  },
  {
   "cell_type": "markdown",
   "metadata": {},
   "source": [
    "##  - $x,y \\longmapsto x \\times y$"
   ]
  },
  {
   "cell_type": "markdown",
   "metadata": {},
   "source": [
    "![xy](img/ligne_xy.png)"
   ]
  },
  {
   "cell_type": "markdown",
   "metadata": {},
   "source": [
    "**Légende** : $x,y \\longmapsto x \\times y $ (Version 1)"
   ]
  },
  {
   "cell_type": "markdown",
   "metadata": {},
   "source": [
    "Il y a un problème dans cet exemple ! La barre verticale de niveau 0 n'apparait pas! Cela est du au choix de notre propagation : On ne propage que selon l'axe $x$ ($x_0 + h$) et non selon $y$, on trouve sur la barre verticale que $\\partial_y f(x,y) = 0$ et on ne peut donc pas **propager notre ligne**.\n",
    "<br/> Cela nous a convaincu d'**améliorer notre algorithme** en propageant aussi selon l'axe $y$, donc en travaillant en évaluant $\\partial_x f(x,y)$\n",
    "<br/> Après la modification, notre algorithme gagne en précision !"
   ]
  },
  {
   "cell_type": "markdown",
   "metadata": {},
   "source": [
    "![après modification](img/ligne_xy2.png)"
   ]
  },
  {
   "cell_type": "markdown",
   "metadata": {},
   "source": [
    "**Légende** : $x,y \\longmapsto x \\times y $ (Version 2)"
   ]
  },
  {
   "cell_type": "markdown",
   "metadata": {},
   "source": [
    "## - $x,y \\longmapsto \\dfrac{|sin(x)|}{y} $"
   ]
  },
  {
   "cell_type": "markdown",
   "metadata": {},
   "source": [
    "![sin](img/ligne_sin.png)"
   ]
  },
  {
   "cell_type": "markdown",
   "metadata": {},
   "source": [
    "**Légende** : $x,y \\longmapsto \\dfrac{|sin(x)|}{y}$."
   ]
  },
  {
   "cell_type": "markdown",
   "metadata": {},
   "source": [
    "On remarque dans cette exemple que l'on a aucun problème là où la fonction a une dérivée partielle qui s'annule !"
   ]
  },
  {
   "cell_type": "markdown",
   "metadata": {},
   "source": [
    "## - $ x,y \\longmapsto cos(x) \\times sin(y) $"
   ]
  },
  {
   "cell_type": "markdown",
   "metadata": {},
   "source": [
    "![Exemple rigolo](img/lignes_cos(x)sin(y).JPG)"
   ]
  },
  {
   "cell_type": "markdown",
   "metadata": {},
   "source": [
    "**Légende** : $ x,y \\longmapsto cos(x) \\times sin(y) $"
   ]
  },
  {
   "cell_type": "markdown",
   "metadata": {},
   "source": [
    "Dans cette figure, on a des lignes de niveau horizontales qui semblent bizarres... En vérifiant avec le graph exacte de la fonction on se rend compte qu'on a effectivement une erreur."
   ]
  },
  {
   "cell_type": "markdown",
   "metadata": {},
   "source": [
    "![true cos*sin](img/true_cossin.jpg)"
   ]
  },
  {
   "cell_type": "markdown",
   "metadata": {},
   "source": [
    "# Problème"
   ]
  },
  {
   "cell_type": "markdown",
   "metadata": {},
   "source": [
    "Le seul inconvénient technique de notre algorithme est l'évaluation de la dérivée partielle d'une fonction : cette partie est cruciale car une erreur est fatale ! (cf exemple $  x,y  \\longmapsto  x \\times y $ et $ x,y \\longmapsto cos(x) \\times sin(y) $).\n",
    "<br/> On s'est donc interessés aux différentes méthodes d'**évaluation de dérivée**."
   ]
  },
  {
   "cell_type": "markdown",
   "metadata": {},
   "source": [
    "# Différence finie"
   ]
  },
  {
   "cell_type": "markdown",
   "metadata": {},
   "source": [
    "Pour calculer la dérivée on a : \n",
    "  \n",
    "$\\dfrac{f(x+h) - f(x)}{h} = f'(x) + \\dfrac{h}{2}\\times f''(x) + o(h)$\n",
    "\n",
    "Il suffirait donc de prendre un h très petit pour avoir une erreur très faible.  \n",
    "Mais en pratique, le stockage des valeurs génère des erreurs d'arrondies (stockage sur 64 bits): "
   ]
  },
  {
   "cell_type": "markdown",
   "metadata": {},
   "source": [
    "![image](img/erreur_derivee.png)"
   ]
  },
  {
   "cell_type": "markdown",
   "metadata": {},
   "source": [
    "On a en fait (pour le premier ordre) :  \n",
    "$\\dfrac{f(x+h)\\varepsilon_{1} - f(x)\\varepsilon_{2}}{h} = f'(x) + \\dfrac{h}{2}\\times f''(x) + \\dfrac{\\varepsilon_{1}-\\varepsilon_{2}}{h} + o(h)$  \n",
    "  \n",
    "Où $\\varepsilon_{1}$ et $\\varepsilon_{2}$ sont les erreurs d'arrondies dans le stockage des valeurs, en négligeant les termes en $\\dfrac{\\varepsilon_i\\times(f(x+h)-f(x))}{h}$  \n",
    "et $|\\dfrac{\\varepsilon_{1}-\\varepsilon_{2}}{h}| \\leq 2\\times\\varepsilon^*$  \n",
    "où $\\varepsilon^* = 2^{64} $ pour un ordinateur en 64 bits  \n",
    "  \n",
    "On veut donc choisir h afin de minimiser l'erreur maximale : $e(h) = \\dfrac{h}{2}\\times |f''(x)| + \\dfrac{2\\times\\varepsilon^*}{h}\\times |f(x)|$  (sous réserve de pouvoir négliger le o(h) pour les valeurs de h avec lesquelles on travaille)  \n",
    "$e'(h) = 0 \\Leftrightarrow h = 2\\times\\sqrt{\\varepsilon^*\\times |\\dfrac{f(x)}{f''(x)}}|$  $\\,$ (pour f''(x) $\\neq$ 0)"
   ]
  },
  {
   "cell_type": "markdown",
   "metadata": {},
   "source": [
    "Par un raisonnement analogue, pour le deuxième ordre (qui réduit l'erreur) il faudrait choisir :  \n",
    "$h = (\\dfrac{2*\\varepsilon^*\\times f(x)}{f^{(3)}(x)})^{\\frac{1}{4}} \\,$ (pour $f^{(3)}(x) \\neq 0$) \n",
    "  \n",
    "Le problème est qu'il faudrait alors connaître $f^{(3)}(x)$ or c'est justement les dérivés que nous cherchons à approcher.  \n",
    "Notre solution (qui ne fonctionnera certes par pour n'importe quelle fonction) est d'approximer $f^{(3)}(x)$ avec un $h$ arbitraire (par exemple $10^{-5}$) afin de trouver un $h$ pour faire une meilleure approximation de $f'(x)$  \n",
    "  \n",
    "**Note :** On pourrait utiliser ce h pour recalculer $f^{(3)}(x)$, trouver un meilleur h et ainsi de suite. Ce qui améliorerait la précision en cas de convergence du schéma (ce qui n'est malheureusement pas systématique)."
   ]
  },
  {
   "cell_type": "markdown",
   "metadata": {},
   "source": [
    "## Différentes version de l'algorithme de dérivation"
   ]
  },
  {
   "cell_type": "markdown",
   "metadata": {},
   "source": [
    "**Version 1 : Basique**"
   ]
  },
  {
   "cell_type": "code",
   "execution_count": null,
   "metadata": {},
   "outputs": [],
   "source": [
    "def derive(f, axis, x0, y0):\n",
    "    if axis == 'y':\n",
    "        return (f(x0,y0+10**-4)-f(x0,y0))/(10**-4)\n",
    "    if axis == 'x':\n",
    "        return (f(x0+10**-4,y0)-f(x0,y0))/(10**-4)"
   ]
  },
  {
   "cell_type": "markdown",
   "metadata": {},
   "source": [
    "**Version 2 : Utilisation d'un schéma amélioré**"
   ]
  },
  {
   "cell_type": "code",
   "execution_count": null,
   "metadata": {},
   "outputs": [],
   "source": [
    "def derive_amelioree(f, axis, x0, y0):\n",
    "    def d1(f,a,h):\n",
    "        \"\"\"dérivée de f avec un schéma d'ordre 1\"\"\"\n",
    "        return (f(a+h) - f(a))/h\n",
    "\n",
    "    def d2(f,a,h):\n",
    "        \"\"\"dérivée de f avec un schéma d'ordre 2\"\"\"\n",
    "        return (f(a+h)-f(a-h))/(2*h)\n",
    "\n",
    "    def dd2(f,a):\n",
    "        \"\"\"dérivée seconde de f en h avec des schémas d'ordre 2\"\"\"\n",
    "        h = 10**(-4)\n",
    "        return (d2(f,a+h,h)-d2(f,a-h,h))/(2*h)\n",
    "\n",
    "    def ddd2(f,a):\n",
    "        \"\"\"dérivée troisième de f en h avec des schémas d'ordre 2\"\"\"\n",
    "        h = 10**(-4)\n",
    "        return (dd2(f,a+h)-dd2(f,a-h))/(2*h)\n",
    "\n",
    "    def d(f):\n",
    "        if axis == 'y':\n",
    "            g = lambda y : f(x0,y)\n",
    "            a = y0\n",
    "            g3 = ddd2(g,a)\n",
    "            if g3 != 0:\n",
    "                h = ((2**(-63)*g(a))/g3)**(1/4)\n",
    "            else:\n",
    "                h = 10**(-3)\n",
    "            return d2(g,y0,h)\n",
    "        if axis == 'x':\n",
    "            g = lambda x : f(x,y0)\n",
    "            a = x0\n",
    "            g3 = ddd2(g,a)\n",
    "            print(g(a),ddd2(g,a))\n",
    "            if g3 != 0:\n",
    "                h = ((2**(-63)*g(a))/g3)**(1/4)\n",
    "            else:\n",
    "                h = 10**(-3)\n",
    "            return d2(g,x0,h)\n",
    "\n",
    "    return d(f)"
   ]
  },
  {
   "cell_type": "markdown",
   "metadata": {},
   "source": [
    "## Résultats post-modification"
   ]
  },
  {
   "cell_type": "markdown",
   "metadata": {},
   "source": [
    "Pour la majorité des fonctions testées, les résultats restent les mêmes. Un exemple est cependant modifié"
   ]
  },
  {
   "cell_type": "markdown",
   "metadata": {},
   "source": [
    "![cos*sin 2](img/ligne_cossin2.png)"
   ]
  },
  {
   "cell_type": "markdown",
   "metadata": {},
   "source": [
    "## Compléxités des Algorithmes"
   ]
  },
  {
   "cell_type": "markdown",
   "metadata": {},
   "source": [
    " - Fonction *Dichotomie* : $O(log_2 (\\dfrac {|b-a|} {eps}) )$\n",
    "\n",
    " - Fonction *find_seed_global* : $O(\\dfrac {longueur_x \\times longeur_y \\times log_2 (\\dfrac {longueur_x} {eps} ) \\times log_2 (\\dfrac {longueur_y} {eps)})} {pas ^2})$\n",
    "\n",
    " - Fonction *Newton* : $O(\\dfrac {1} {\\sqrt {précision} \\times pas})$ car la convergence de la suite $(x_n)_{n \\in \\mathbb N}$ vers la solution de $f(x) = 0$ est quadratique\n",
    "\n",
    " - Fonction *dérivée_améliorée* : $O(1)$\n",
    "\n",
    " - Fonction *Propagation* : $O(\\dfrac {longueur_x \\times longueur_y \\times log_2 (longueur_x) \\times log_2 (longueur_y)} {pas^2})$"
   ]
  },
  {
   "cell_type": "markdown",
   "metadata": {},
   "source": [
    "On en arrive à la complexité de la fonction *ligne_niveau* :"
   ]
  },
  {
   "cell_type": "markdown",
   "metadata": {},
   "source": [
    "$ longueur_x \\ et  \\ longueur_y $ donnent l'étalement du domaine.\n",
    "$ pas \\ de \\ découpe \\ des \\ cases $ est explicite.\n",
    "$Précision$ désigne la grandeur en-deçà de laquelle la fonction est considérée comme nulle."
   ]
  },
  {
   "cell_type": "markdown",
   "metadata": {},
   "source": [
    "$\\; \\; \\; \\; \\; \\; \\; \\; \\; \\; \\; \\; \\; \\; \\; \\; \\; \\; \\; \\; \\; \\; \\; \\; \\; \\; \\; \\; \\; \\; \\; \\; \\; \\; \\; \\; \\; \\; \\; \\; \\; \\; \\; \\; \\; \\; \\; \\; \\; \\; \\; \\; \\; \\; \\; \\; \\;$ $O( \\dfrac {longueur_x \\times longueur_y} {pas \\ de \\ découpe \\ des \\ cases ^2 \\times \\sqrt {précision}} )$"
   ]
  },
  {
   "cell_type": "code",
   "execution_count": null,
   "metadata": {},
   "outputs": [],
   "source": []
  }
 ],
 "metadata": {
  "kernelspec": {
   "display_name": "Python 3",
   "language": "python",
   "name": "python3"
  },
  "language_info": {
   "codemirror_mode": {
    "name": "ipython",
    "version": 3
   },
   "file_extension": ".py",
   "mimetype": "text/x-python",
   "name": "python",
   "nbconvert_exporter": "python",
   "pygments_lexer": "ipython3",
   "version": "3.7.3"
  }
 },
 "nbformat": 4,
 "nbformat_minor": 2
}
